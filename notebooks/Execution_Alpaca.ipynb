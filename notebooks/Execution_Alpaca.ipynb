{
 "cells": [
  {
   "cell_type": "code",
   "execution_count": 52,
   "id": "60e18831",
   "metadata": {},
   "outputs": [],
   "source": [
    "import pandas as pd\n",
    "import numpy as np\n",
    "from alpaca.trading.client import TradingClient\n",
    "from alpaca.trading.requests import MarketOrderRequest\n",
    "from alpaca.trading.enums import OrderSide, TimeInForce\n",
    "import time\n",
    "import threading\n",
    "from threading import Timer\n",
    "import argparse"
   ]
  },
  {
   "cell_type": "code",
   "execution_count": 18,
   "id": "5c6af260",
   "metadata": {},
   "outputs": [
    {
     "ename": "ModuleNotFoundError",
     "evalue": "No module named 'data_preparation'",
     "output_type": "error",
     "traceback": [
      "\u001b[0;31m---------------------------------------------------------------------------\u001b[0m",
      "\u001b[0;31mModuleNotFoundError\u001b[0m                       Traceback (most recent call last)",
      "\u001b[0;32m<ipython-input-18-07d59b7ef96a>\u001b[0m in \u001b[0;36m<module>\u001b[0;34m\u001b[0m\n\u001b[0;32m----> 1\u001b[0;31m \u001b[0;32mfrom\u001b[0m \u001b[0mdata_preparation\u001b[0m \u001b[0;32mimport\u001b[0m \u001b[0;34m*\u001b[0m\u001b[0;34m\u001b[0m\u001b[0;34m\u001b[0m\u001b[0m\n\u001b[0m\u001b[1;32m      2\u001b[0m \u001b[0;32mfrom\u001b[0m \u001b[0mprice_prediction\u001b[0m \u001b[0;32mimport\u001b[0m \u001b[0;34m*\u001b[0m\u001b[0;34m\u001b[0m\u001b[0;34m\u001b[0m\u001b[0m\n\u001b[1;32m      3\u001b[0m \u001b[0;32mfrom\u001b[0m \u001b[0mtrading_strategy\u001b[0m \u001b[0;32mimport\u001b[0m \u001b[0;34m*\u001b[0m\u001b[0;34m\u001b[0m\u001b[0;34m\u001b[0m\u001b[0m\n",
      "\u001b[0;31mModuleNotFoundError\u001b[0m: No module named 'data_preparation'"
     ]
    }
   ],
   "source": [
    "from data_preparation import *\n",
    "from price_prediction import *\n",
    "from trading_strategy import *"
   ]
  },
  {
   "cell_type": "code",
   "execution_count": 31,
   "id": "a331381d",
   "metadata": {},
   "outputs": [
    {
     "data": {
      "text/plain": [
       "_StoreAction(option_strings=['--quantity'], dest='quantity', nargs=None, const=None, default=1, type=None, choices=None, help='total quantity to trade', metavar=None)"
      ]
     },
     "execution_count": 31,
     "metadata": {},
     "output_type": "execute_result"
    }
   ],
   "source": [
    "###########################################Set hyperparameters###################################################\n",
    "\n",
    "# Create the parser\n",
    "parser = argparse.ArgumentParser(description=\"argument parser for preprocessing and downloading data\")\n",
    "\n",
    "#timing intervals\n",
    "parser.add_argument(\"--start_date\", type=str, default = None, help=\"start date of all data\")\n",
    "parser.add_argument(\"--days\", type=int, default = 500, help=\"number of days needed\")\n",
    "parser.add_argument(\"--room_na\", type=int, default = 200, help=\"room of na days\")\n",
    "parser.add_argument(\"--interval\", type=str, default = \"1d\", choices=[\"1d\",\"1wk\",\"1mo\"], help=\"choose an interval\")\n",
    "parser.add_argument(\"--end_date\", type=str, default = str(date.today()) , help=\"end date of all data\")\n",
    "\n",
    "#stock needed\n",
    "parser.add_argument(\"--stock\", action=\"store_true\", default = 'AAPL' , help = \"stock to consider download\")\n",
    "\n",
    "#log indicaters\n",
    "parser.add_argument(\"--need_log\", action=\"store_false\", help=\"check if log transformation needed\")\n",
    "\n",
    "#finta indicaters without params\n",
    "parser.add_argument(\"--need_ta\", action=\"store_false\", help=\"check if ta indicaters needed\")\n",
    "parser.add_argument(\"--choices_ta\", default = \"['RSI','STOCH']\", help=\"choices of ta indicaters\")\n",
    "\n",
    "#trend indicaters\n",
    "parser.add_argument(\"--need_macd\", action=\"store_false\", help=\"check if macd indicaters needed\")\n",
    "parser.add_argument(\"--columns_macd\", default = \"['Close']\" , help=\"target column of macd\")\n",
    "parser.add_argument(\"--short_span\", type = int, default = 12 , help=\"short span of macd\")\n",
    "parser.add_argument(\"--long_span\", type = int, default = 26 , help=\"long span of macd\")\n",
    "parser.add_argument(\"--signal_span\", type = int, default = 9 , help=\"signal span of macd\")\n",
    "\n",
    "#ema indicaters\n",
    "parser.add_argument(\"--need_ema\", action=\"store_false\", help=\"check if ema indicaters needed\")\n",
    "parser.add_argument(\"--days_ema\", default = \"[5,15,25,50]\" , help=\"days of ema installed\")\n",
    "parser.add_argument(\"--columns_ema\", default = \"['Close']\" , help=\"target column of ema\")\n",
    "\n",
    "#prev day\n",
    "parser.add_argument(\"--need_prev\", action=\"store_false\", help=\"check if previous day indicaters needed\")\n",
    "parser.add_argument(\"--columns_prev\", default = \"['Close']\" , help=\"target column of previous day\")\n",
    "parser.add_argument(\"--days_prev\", type = int, default = \"20\" , help= \"number of previous days needed\")\n",
    "\n",
    "#shift target\n",
    "parser.add_argument(\"--shift_target\", action=\"store_false\", help=\"check if shifting target for backtesting is needed\")\n",
    "#task definition\n",
    "parser.add_argument(\"--regression\", action = 'store_false', help=\"to do regression or classification task\")\n",
    "parser.add_argument(\"--training_size\", type = int, default = 300, help = \"number of days to used for traning the model\" )\n",
    "parser.add_argument(\"--training_interval\", type = int,  default = 1, help = 'interval to train a new model for each testing day')\n",
    "\n",
    "#data preprocessing\n",
    "parser.add_argument(\"--return_normalization\", action = 'store_true', help=\"to do return rate normalization or not\")\n",
    "parser.add_argument(\"--min_max_normalization\", action = 'store_true', help=\"to do min max normalization or not\" )\n",
    "parser.add_argument(\"--standard_normalization\", action = 'store_false', help = \"to do standard normalization or not\"  )\n",
    "\n",
    "#sequential\n",
    "parser.add_argument(\"--sequential\", action = 'store_true', help=\"using sequential model or  not\")\n",
    "parser.add_argument(\"--window_size\", type = int, default = 20, help=\"using sequential model or  not\")\n",
    "parser.add_argument(\"--model\", default = 'Conv', help=\"model to use for training\")\n",
    "parser.add_argument(\"--model_param\", default = {}, help = 'model hyperparamters')\n",
    "\n",
    "\n"
   ]
  },
  {
   "cell_type": "code",
   "execution_count": 33,
   "id": "280de7e2",
   "metadata": {},
   "outputs": [],
   "source": [
    "def GetPosition():\n",
    "    symbol_list = []\n",
    "    quantity_list = []\n",
    "    # Get a list of all of our positions.\n",
    "    portfolio = trading_client.get_all_positions()\n",
    "\n",
    "    # Print the quantity of shares for each position.\n",
    "    for position in portfolio:\n",
    "        symbol_list.append(position.symbol)\n",
    "        quantity_list.append(position.qty)\n",
    "    dict = {'Symbol':symbol_list, 'Quantity':quantity_list}\n",
    "    df = pd.DataFrame(dict)\n",
    "    \n",
    "    return df"
   ]
  },
  {
   "cell_type": "code",
   "execution_count": 34,
   "id": "a36c34c4",
   "metadata": {},
   "outputs": [
    {
     "data": {
      "text/html": [
       "<div>\n",
       "<style scoped>\n",
       "    .dataframe tbody tr th:only-of-type {\n",
       "        vertical-align: middle;\n",
       "    }\n",
       "\n",
       "    .dataframe tbody tr th {\n",
       "        vertical-align: top;\n",
       "    }\n",
       "\n",
       "    .dataframe thead th {\n",
       "        text-align: right;\n",
       "    }\n",
       "</style>\n",
       "<table border=\"1\" class=\"dataframe\">\n",
       "  <thead>\n",
       "    <tr style=\"text-align: right;\">\n",
       "      <th></th>\n",
       "      <th>Symbol</th>\n",
       "      <th>Quantity</th>\n",
       "    </tr>\n",
       "  </thead>\n",
       "  <tbody>\n",
       "    <tr>\n",
       "      <th>0</th>\n",
       "      <td>AAPL</td>\n",
       "      <td>-1</td>\n",
       "    </tr>\n",
       "  </tbody>\n",
       "</table>\n",
       "</div>"
      ],
      "text/plain": [
       "  Symbol Quantity\n",
       "0   AAPL       -1"
      ]
     },
     "execution_count": 34,
     "metadata": {},
     "output_type": "execute_result"
    }
   ],
   "source": [
    "pos = GetPosition()\n",
    "pos"
   ]
  },
  {
   "cell_type": "code",
   "execution_count": 20,
   "id": "be0ca26c",
   "metadata": {},
   "outputs": [],
   "source": [
    "def PlaceOrderBUY(ticker = \"AAPL\", quantity = 1):\n",
    "    market_order_data = MarketOrderRequest(\n",
    "                    symbol=ticker,\n",
    "                    qty=quantity,\n",
    "                    side=OrderSide.BUY,\n",
    "                    time_in_force=TimeInForce.GTC\n",
    "                    )\n",
    "    \n",
    "    market_order = trading_client.submit_order(\n",
    "                order_data=market_order_data\n",
    "               )\n",
    "\n",
    "def PlaceOrderSELL(ticker = \"AAPL\", quantity = 1):\n",
    "    market_order_data = MarketOrderRequest(\n",
    "                    symbol=ticker,\n",
    "                    qty=quantity,\n",
    "                    side=OrderSide.SELL,\n",
    "                    time_in_force=TimeInForce.GTC\n",
    "                    )\n",
    "    \n",
    "    market_order = trading_client.submit_order(\n",
    "                order_data=market_order_data\n",
    "               )\n",
    "    "
   ]
  },
  {
   "cell_type": "code",
   "execution_count": 54,
   "id": "7796769b",
   "metadata": {},
   "outputs": [],
   "source": [
    "PlaceOrderBUY(ticker = \"AAPL\", quantity = 2)"
   ]
  },
  {
   "cell_type": "code",
   "execution_count": 61,
   "id": "8f5c84e6",
   "metadata": {},
   "outputs": [],
   "source": [
    "def main(args):\n",
    "    API_KEY = \"\" #change to your api key\n",
    "    SECRET_KEY = \"\"#change to your secret key\n",
    "    trading_client = TradingClient(API_KEY, SECRET_KEY, paper=True)\n",
    "\n",
    "    #data preparation, traning, strategy\n",
    "    #data = data_downloader(args)\n",
    "    #prediction = predict(args,data)\n",
    "    #direction = trading_decision(prediction,len(prediction.index)) #-1 for short, 1 for long, 0 for doing nothing\n",
    "    direction = 1\n",
    "    \n",
    "    pos = GetPosition()\n",
    "    current_position = float(pos[pos['Symbol']==args.stock]['Quantity'].values[0])\n",
    "    print('current position in', args.stock, 'is', current_position,'shares' )\n",
    "    if direction == 1 and current_position > 0: #stay long position\n",
    "        print('stay long position')\n",
    "        \n",
    "    elif direction == -1 and current_position < 0: #stay short position\n",
    "        print('stay short position')\n",
    "        \n",
    "    elif direction == 1 and current_position < 0: #close short position, open long position\n",
    "        print('close short position')\n",
    "        PlaceOrderBUY(ticker = args.stock, quantity = abs(current_position))\n",
    "        time.sleep(5)\n",
    "        print('open long position')\n",
    "        PlaceOrderBUY(ticker = args.stock, quantity = abs(current_position))\n",
    "        \n",
    "    elif direction == -1 and current_position > 0: #close long position, open short position\n",
    "        print('close long position')\n",
    "        PlaceOrderSELL(ticker = args.stock, quantity = abs(current_position))\n",
    "        time.sleep(5)\n",
    "        print('open short position')\n",
    "        PlaceOrderSELL(ticker = args.stock, quantity = abs(current_position))\n",
    "    \n",
    "    else: #no trading\n",
    "        print('error: except condition of no trading')\n",
    "        \n",
    "        "
   ]
  },
  {
   "cell_type": "code",
   "execution_count": 62,
   "id": "6541fdd4",
   "metadata": {},
   "outputs": [
    {
     "name": "stdout",
     "output_type": "stream",
     "text": [
      "current position in AAPL is 2.0 shares\n",
      "stay long position\n"
     ]
    }
   ],
   "source": [
    "if __name__ == '__main__':\n",
    "    args = parser.parse_args([])\n",
    "    main(args)"
   ]
  }
 ],
 "metadata": {
  "kernelspec": {
   "display_name": "Python 3",
   "language": "python",
   "name": "python3"
  },
  "language_info": {
   "codemirror_mode": {
    "name": "ipython",
    "version": 3
   },
   "file_extension": ".py",
   "mimetype": "text/x-python",
   "name": "python",
   "nbconvert_exporter": "python",
   "pygments_lexer": "ipython3",
   "version": "3.8.8"
  }
 },
 "nbformat": 4,
 "nbformat_minor": 5
}
